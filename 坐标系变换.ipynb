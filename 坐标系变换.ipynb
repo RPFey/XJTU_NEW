{
  "nbformat": 4,
  "nbformat_minor": 0,
  "metadata": {
    "colab": {
      "name": "坐标系变换.ipynb",
      "provenance": [],
      "collapsed_sections": [],
      "toc_visible": true,
      "authorship_tag": "ABX9TyME/7KBepU48OBhYJTnNvs4",
      "include_colab_link": true
    },
    "kernelspec": {
      "name": "python3",
      "display_name": "Python 3"
    },
    "language_info": {
      "name": "python"
    }
  },
  "cells": [
    {
      "cell_type": "markdown",
      "metadata": {
        "id": "view-in-github",
        "colab_type": "text"
      },
      "source": [
        "<a href=\"https://colab.research.google.com/github/RPFey/XJTU_NEW/blob/main/%E5%9D%90%E6%A0%87%E7%B3%BB%E5%8F%98%E6%8D%A2.ipynb\" target=\"_parent\"><img src=\"https://colab.research.google.com/assets/colab-badge.svg\" alt=\"Open In Colab\"/></a>"
      ]
    },
    {
      "cell_type": "markdown",
      "metadata": {
        "id": "cKHAKCPDgLgR"
      },
      "source": [
        "# 坐标系变换\n",
        "\n",
        "<img src=\"https://drive.google.com/uc?export=view&id=1N90gfgCycjdqF6CxatU1LNFLzHom2a2R\" style=\"height:300px\">\n",
        "\n",
        "坐标系变换最简单的表示形式是：\n",
        "\n",
        "$$\n",
        "p_1 = R_2^1 p_2 + T\n",
        "$$\n",
        "\n",
        "$R_2^1$ 代表从坐标系2变换到坐标系1。\n",
        "\n",
        "## 确定 R, T\n",
        "\n",
        "* 确定 T\n",
        "\n",
        "向量 $T$ 为坐标系 2 的原点在坐标系 1 中的坐标。可以令 $p_2 = \\vec{0}$，也就是坐标系 2 的原点，此时 $p_1 = T$。\n",
        "\n",
        "* 确定 R\n",
        "\n",
        "令两坐标系原点重合。\n",
        "\n",
        "$$\n",
        "R_2^1 = \\begin{bmatrix} r_x' & r_y' & r_z' \\end{bmatrix}\n",
        "$$\n",
        "\n",
        "$r_x'$ 为坐标系 2 的 $x$ 轴在坐标系 1 中的坐标。\n",
        "\n",
        "$$\n",
        "r_x' = \\begin{bmatrix} e_x'^T e_x \\\\ e_x'^Te_y \\\\ e_x'^Te_z \\end{bmatrix}\n",
        "$$\n",
        "\n",
        "因此\n",
        "\n",
        "$$\n",
        "\\begin{bmatrix} e_x' & e_y' & e_z' \\end{bmatrix} = \\begin{bmatrix} e_x & e_y & e_z \\end{bmatrix} R_2^1\n",
        "$$\n",
        "\n",
        "可以将坐标系变换理解成基底变换。对于空间中任一向量 $p$\n",
        "\n",
        "$$\n",
        "p = \\begin{bmatrix} e_x & e_y & e_z \\end{bmatrix} \\begin{bmatrix} x_1 \\\\ x_2 \\\\ x_3 \\end{bmatrix} = \\begin{bmatrix} e_x' & e_y' & e_z' \\end{bmatrix} \\begin{bmatrix} x_1' \\\\ x_2' \\\\ x_3' \\end{bmatrix} \n",
        "$$\n",
        "\n",
        "$$\n",
        "\\begin{bmatrix} e_x & e_y & e_z \\end{bmatrix} \\begin{bmatrix} x_1 \\\\ x_2 \\\\ x_3 \\end{bmatrix} = \\begin{bmatrix} e_x & e_y & e_z \\end{bmatrix} R_2^1 \\begin{bmatrix} x_1' \\\\ x_2' \\\\ x_3' \\end{bmatrix}\n",
        "$$\n",
        "\n",
        "$$\n",
        "\\begin{bmatrix} x_1 \\\\ x_2 \\\\ x_3 \\end{bmatrix} = R_2^1 \\begin{bmatrix} x_1' \\\\ x_2' \\\\ x_3' \\end{bmatrix}\n",
        "$$\n",
        "\n",
        "## 表示坐标变换的四种形式\n",
        "\n",
        "* R, T 矩阵表示形式\n",
        "\n",
        "* 欧拉角\n",
        "\n",
        "Play with this interactive [figure](http://www.ctralie.com/Teaching/COMPSCI290/Materials/EulerAnglesViz/)"
      ]
    },
    {
      "cell_type": "code",
      "metadata": {
        "colab": {
          "base_uri": "https://localhost:8080/",
          "height": 518
        },
        "id": "lJakGWJsgFKB",
        "cellView": "form",
        "outputId": "5cec4ccd-bb38-490d-f2b4-90ba4a11eb48"
      },
      "source": [
        "#@title 视频: 欧拉角\n",
        "from IPython.display import YouTubeVideo\n",
        "video = YouTubeVideo(id=\"qqlLshaHqeE\", width=854, height=480, fs=1)\n",
        "print(\"Video available at https://youtube.com/watch?v=\" + video.id)\n",
        "\n",
        "video"
      ],
      "execution_count": null,
      "outputs": [
        {
          "output_type": "stream",
          "text": [
            "Video available at https://youtube.com/watch?v=qqlLshaHqeE\n"
          ],
          "name": "stdout"
        },
        {
          "output_type": "execute_result",
          "data": {
            "text/html": [
              "\n",
              "        <iframe\n",
              "            width=\"854\"\n",
              "            height=\"480\"\n",
              "            src=\"https://www.youtube.com/embed/qqlLshaHqeE?fs=1\"\n",
              "            frameborder=\"0\"\n",
              "            allowfullscreen\n",
              "        ></iframe>\n",
              "        "
            ],
            "text/plain": [
              "<IPython.lib.display.YouTubeVideo at 0x7f983405f1d0>"
            ],
            "image/jpeg": "[encoded data removed]"
          },
          "metadata": {
            "tags": []
          },
          "execution_count": 1
        }
      ]
    },
    {
      "cell_type": "markdown",
      "metadata": {
        "id": "bHWU0vXLnZz0"
      },
      "source": [
        "* 欧拉角与旋转矩阵\n",
        "\n",
        "$$\n",
        "p = R_xR_yR_zp'\n",
        "$$\n",
        "\n",
        "其中 $R_x(\\theta)=\\begin{bmatrix} 1 & 0 & 0 \\\\ 0 & cos\\theta & -sin\\theta \\\\ 0 & sin\\theta & cos\\theta \\end{bmatrix}$，$R_y(\\phi)=\\begin{bmatrix} cos\\phi & 0 & sin\\phi \\\\ 0 & 1 & 0 \\\\ -sin\\phi & 0 & cos\\phi \\end{bmatrix}$，$R_z(\\gamma)=\\begin{bmatrix} cos\\gamma & -sin\\gamma & 0 \\\\ sin\\gamma & cos\\gamma & 0 \\\\ 0 & 0 & 1 \\end{bmatrix}$\n",
        "\n",
        "旋转矩阵到欧拉角只需要乘起来然后凑角度即可。"
      ]
    },
    {
      "cell_type": "code",
      "metadata": {
        "colab": {
          "base_uri": "https://localhost:8080/"
        },
        "id": "h_tNsggLO9NC",
        "outputId": "0c23fcb4-070a-47fc-f87a-6777d8d98175"
      },
      "source": [
        "# 这里我们使用 scipy 中的类演示变换\n",
        "# 具体文档参考 https://docs.scipy.org/doc/scipy/reference/generated/scipy.spatial.transform.Rotation.html#scipy.spatial.transform.Rotation\n",
        "from scipy.spatial.transform import Rotation as R\n",
        "import numpy as np\n",
        "\n",
        "# 假设绕着 z 轴旋转 45 度\n",
        "rot = R.from_euler('z', [45], degrees=True)\n",
        "print(\"Rotation Matrix : \\n\", rot.as_matrix())\n",
        "\n",
        "# 给定一个旋转矩阵\n",
        "rot = R.from_matrix([[0, -1, 0],\n",
        "          [1, 0, 0],\n",
        "          [0, 0, 1]])\n",
        "print(\"Euler Angle: \\n\", rot.as_euler('xyz'))"
      ],
      "execution_count": 4,
      "outputs": [
        {
          "output_type": "stream",
          "text": [
            "Rotation Matrix : \n",
            " [[[ 0.70710678 -0.70710678  0.        ]\n",
            "  [ 0.70710678  0.70710678  0.        ]\n",
            "  [ 0.          0.          1.        ]]]\n",
            "Euler Angle: \n",
            " [0.         0.         1.57079633]\n"
          ],
          "name": "stdout"
        }
      ]
    },
    {
      "cell_type": "markdown",
      "metadata": {
        "id": "3G1uR_ZxQNFC"
      },
      "source": [
        "* 旋转向量与旋转矩阵\n",
        "\n",
        "旋转向量 $\\vec{a}$。其中$\\vec{a}$的模就是转角，$||\\vec{a}||=\\theta$。而$vec{a}$的方向就是转轴。$\\vec{n} = \\frac{\\vec{a}}{||\\vec{a}||}$。\n",
        "\n",
        "从旋转向量到旋转矩阵（罗德里格斯公式）\n",
        "\n",
        "$$\n",
        "R = I + sin\\theta K+ (1-cos\\theta)K^2\n",
        "$$\n",
        "\n",
        "> 还记得 K 是什么吗？\n",
        "\n",
        "从旋转矩阵到旋转向量。\n",
        "\n",
        "由于$R\\vec{n}=\\vec{n}$，所以$\\vec{n}$是R的特征值为1的特征向量。\n",
        "\n",
        "对罗德里格斯公式两边求迹，有\n",
        "\n",
        "$$\n",
        "tr(R) = 3 - 2(1-cos\\theta)\n",
        "$$\n",
        "\n",
        "可以求得 $\\theta$"
      ]
    },
    {
      "cell_type": "code",
      "metadata": {
        "colab": {
          "base_uri": "https://localhost:8080/"
        },
        "id": "zOa0drQLR8Dt",
        "outputId": "81507149-8f4b-47ee-9c07-e5d539a27532"
      },
      "source": [
        "# 还是用欧拉角，很明显是绕着 z 转 45 度\n",
        "rot = R.from_euler('z', [45], degrees=True)\n",
        "print(\"Rotation vector : \\n\", rot.as_rotvec())"
      ],
      "execution_count": 5,
      "outputs": [
        {
          "output_type": "stream",
          "text": [
            "Rotation vector : \n",
            " [[0.         0.         0.78539816]]\n"
          ],
          "name": "stdout"
        }
      ]
    },
    {
      "cell_type": "markdown",
      "metadata": {
        "id": "Bdx93Pu2SOP6"
      },
      "source": [
        "* 旋转向量和四元数\n",
        "\n",
        "单位四元数和旋转向量的关系\n",
        "\n",
        "$$\n",
        "\\vec{q} = (cos\\frac{\\theta}{2}, \\vec{n}sin\\frac{\\theta}{2})\n",
        "$$\n",
        "\n",
        "> 四元数是 $(w, x, y, z)$ 形式"
      ]
    },
    {
      "cell_type": "code",
      "metadata": {
        "colab": {
          "base_uri": "https://localhost:8080/"
        },
        "id": "qseNvgJES10D",
        "outputId": "6245bb30-8e88-4cb5-fab0-990f3a62ef69"
      },
      "source": [
        "# 将上一个旋转用四元数形式表示\n",
        "# 注意这里的表示形式是 (x, y, z, w)\n",
        "print(\"Quaternion vector : \\n\", rot.as_quat())"
      ],
      "execution_count": 6,
      "outputs": [
        {
          "output_type": "stream",
          "text": [
            "Rotation vector : \n",
            " [[0.         0.         0.38268343 0.92387953]]\n"
          ],
          "name": "stdout"
        }
      ]
    },
    {
      "cell_type": "markdown",
      "metadata": {
        "id": "n_2GjWCNTXgJ"
      },
      "source": [
        "# Exercise\n",
        "\n",
        "假设同学为了检查无人机的定位系统是否正确，在将飞控板上电后，他手持无人机绕 z 轴逆时针旋转 90 度。如果配置正确，系统输出的四元数是多少？（假设初始时四元数是 (1, 0, 0, 0)，四元数格式是 (w, x, y, z)）"
      ]
    },
    {
      "cell_type": "markdown",
      "metadata": {
        "id": "BdXlOa45Tb9O"
      },
      "source": [
        "还记得我们讲座中提到的无人机结构吗？\n",
        "\n",
        "![](https://drive.google.com/uc?export=view&id=1LmOjK6mSwBuKUacnWgmRQtDVOQVqMq_9)\n",
        "\n",
        "1. 求出从飞机坐标系（body frame）到相机坐标系（camera frame）的 R, T。即\n",
        "\n",
        "$$\n",
        "p_b = Rp_c + T\n",
        "$$\n",
        "\n",
        "$p_b$ 为飞机坐标系中坐标，$p_c$ 为相机坐标系中坐标。\n",
        "\n",
        "2. 请填写配置文件，配置文件要求格式是 (r, p, y, x, y, z) （注意前后两个 y 的含义不同哦。）\n",
        "\n",
        "3. 为了检测相机目标是否准确。现在在飞机前方 3m 的地上放置一个目标物。飞机在地面上 1 m。目标物在相机坐标系中的坐标是多少？\n",
        "\n",
        "**允许编程求解，鼓励手算**"
      ]
    },
    {
      "cell_type": "code",
      "metadata": {
        "id": "CghVDB_iXZX3"
      },
      "source": [
        "# 求出 R, T\n",
        "R = ...\n",
        "T = ...\n",
        "\n",
        "# 构建 Rotation 类\n",
        "rot = R.from_matrix(...)\n",
        "\n",
        "# 求出欧拉角\n",
        "...\n",
        "\n",
        "# 写出地面上点的坐标\n",
        "x = ...\n",
        "# 求出相机中点的坐标\n",
        "c = ..."
      ],
      "execution_count": null,
      "outputs": []
    }
  ]
}