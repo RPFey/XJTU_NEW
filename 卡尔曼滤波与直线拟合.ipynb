{
  "nbformat": 4,
  "nbformat_minor": 0,
  "metadata": {
    "colab": {
      "name": "卡尔曼滤波与直线拟合.ipynb",
      "provenance": [],
      "collapsed_sections": [],
      "authorship_tag": "ABX9TyNmzMzk5ufRpIwnW3WgW+bM",
      "include_colab_link": true
    },
    "kernelspec": {
      "name": "python3",
      "display_name": "Python 3"
    },
    "language_info": {
      "name": "python"
    }
  },
  "cells": [
    {
      "cell_type": "markdown",
      "metadata": {
        "id": "view-in-github",
        "colab_type": "text"
      },
      "source": [
        "<a href=\"https://colab.research.google.com/github/RPFey/XJTU_NEW/blob/main/%E5%8D%A1%E5%B0%94%E6%9B%BC%E6%BB%A4%E6%B3%A2%E4%B8%8E%E7%9B%B4%E7%BA%BF%E6%8B%9F%E5%90%88.ipynb\" target=\"_parent\"><img src=\"https://colab.research.google.com/assets/colab-badge.svg\" alt=\"Open In Colab\"/></a>"
      ]
    },
    {
      "cell_type": "markdown",
      "metadata": {
        "id": "VJA4uAxrWPg-"
      },
      "source": [
        "# 卡尔曼滤波\n",
        "\n",
        "卡尔曼滤波用来融合不同的信息。假设你收到一串信息 eg. $\\{(m_1, \\sigma_1), (m_2, \\sigma_2), ..., (m_n, \\sigma_n)\\}$。其中 $m_i$ 代表信息的估计，$\\sigma_i$ 代表不确定度（方差）。可以用卡尔曼滤波方法综合利用（融合）这些信息，得到估计和不确定度。\n",
        "\n",
        "符号规定：\n",
        "\n",
        "1. $x_t$ 代表时刻 t 的状态变量。\n",
        "2. $p_t$ 代表时刻 t 的不确定度。\n",
        "3. $m_t$ 代表时刻 t 的信息。\n",
        "4. $\\sigma_t$ 代表时刻 t 信息的不确定度。\n",
        "5. 带 hat 符号都是期望。eg. $\\hat{x_t}$ 为变量 $x_t$ 的期望\n",
        "\n",
        "假设：\n",
        "\n",
        "**所有概率分布都是高斯分布。**\n",
        "\n",
        "即：\n",
        "\n",
        "$$\n",
        "p(m_t | x_t) \\sim N(\\hat{m_t}, \\sigma_t)\n",
        "$$\n",
        "\n",
        "## 单变量卡尔曼滤波\n",
        "\n",
        "推导如下：\n",
        "\n",
        "$$\n",
        "\\begin{aligned}\n",
        "p(x_{t+1} | x_t, m_{t+1}) &\\propto p(m_{t+1} | x_{t+1}, x_t) * p(x_{t+1} | x_{t}) \\\\\n",
        "              &= N(\\hat{m}_{t+1}, \\hat{\\sigma}_{t+1}) * N(\\hat{x_t}, \\hat{p_{t}}) \\\\\n",
        "\\end{aligned}\n",
        "$$\n",
        "\n",
        "这个分布的均值为 $\\hat{x_{t+1}} = \\frac{\\hat{\\sigma}_{t+1}^2}{\\hat{p}_t^2 + \\hat{\\sigma}_{t+1}^2} * \\hat{x}_{t} + \\frac{\\hat{p}_{t}^2}{\\hat{p}_t^2 + \\hat{\\sigma}_{t+1}^2} * \\hat{m}_t$，方差为 $\\hat{p}_{t+1}^2 = (1 - \\frac{\\hat{p}_{t}^2}{\\hat{p}_t^2 + \\hat{\\sigma}_{t+1}^2}) * \\hat{p_{t}}^2$\n",
        "\n",
        "整理后，定义卡尔曼增益 $K = \\frac{\\hat{p}_{t}^2}{\\hat{p}_t^2 + \\hat{\\sigma}_{t+1}^2}$。上式可以写为：\n",
        "\n",
        "$$\n",
        "\\begin{aligned}\n",
        "\\hat{x_{t+1}} &= (1 - K) * \\hat{x}_{t} + K * \\hat{m}_t \\\\\n",
        "\\hat{p}_{t+1}^2 &= (1 - K) * \\hat{p_{t}}^2\n",
        "\\end{aligned}\n",
        "$$\n",
        "\n",
        "## 举例（PX4 高度估计）\n",
        "\n",
        "代码段见[此处](https://github.com/PX4/PX4-ECL/blob/29243ac5cbb5d27ac71744e88afcd786df6f748d/EKF/terrain_estimator.cpp#L133)。\n",
        "\n",
        "## 多变量卡尔曼滤波\n",
        "\n",
        "只需要理解单变量滤波即可，多变量滤波参考公式。\n",
        "\n",
        "完整的卡尔曼滤波为\n",
        "\n",
        "$$\n",
        "\\begin{aligned}\n",
        "x_k &= F_k x_{k-1} + B_k u_k + w_k\\\\\n",
        "z_k &= H_k x_k + v_k \n",
        "\\end{aligned}\n",
        "$$\n",
        "\n",
        "其中, $w_k$, $v_k$ 分别服从\n",
        "\n",
        "$$\n",
        "\\begin{aligned}\n",
        "w_k &\\sim N(0, Q_k) \\\\\n",
        "v_k &\\sim N(0, R_k)\n",
        "\\end{aligned}\n",
        "$$\n",
        "\n",
        "滤波过程：运动更新\n",
        "\n",
        "$$\n",
        "\\begin{aligned}\n",
        "\\hat{x}_k &= F_k x_{k-1} + B_k u_k\\\\\n",
        "\\hat{P}_k &= F_kP_{k-1}F_k^T +Q_k\n",
        "\\end{aligned}\n",
        "$$\n",
        "\n",
        "观测更新\n",
        "\n",
        "$$\n",
        "\\begin{aligned}\n",
        "y_k &= z_k - H_k \\hat{x}_k \\\\\n",
        "K_k &= \\hat{P}_k H_k^T (H_k\\hat{P}_kH_k^T + R_k)^{-1} \\\\\n",
        "x_k &= \\hat{x}_k + K_k y_k \\\\\n",
        "P_k &= (I - K_kH_k)\\hat{P}_k\n",
        "\\end{aligned}\n",
        "$$\n",
        "\n",
        "参考资料：\n",
        "\n",
        "1. 《概率机器人》 (Probablistic Robots) by 塞巴斯蒂安 特龙\n",
        "2. [维基百科，卡尔曼滤波](https://www.wikiwand.com/en/Kalman_filter)"
      ]
    },
    {
      "cell_type": "code",
      "metadata": {
        "id": "5pK85SR-gDdf"
      },
      "source": [
        "#@markdown 导入库\n",
        "import numpy as np\n",
        "import matplotlib.pyplot as plt\n",
        "import cv2"
      ],
      "execution_count": 1,
      "outputs": []
    },
    {
      "cell_type": "markdown",
      "metadata": {
        "id": "VorLpO0mfOx6"
      },
      "source": [
        "## 应用：直线拟合\n",
        "\n",
        "卡尔曼滤波可以用来拟合直线。"
      ]
    },
    {
      "cell_type": "code",
      "metadata": {
        "cellView": "form",
        "id": "T03v5yMTWMyD"
      },
      "source": [
        "#@markdown 二维拟合直线时，一组观测最少需要几个点\n",
        "minimum_point_num = '' #@param {type:\"string\"}"
      ],
      "execution_count": null,
      "outputs": []
    },
    {
      "cell_type": "code",
      "metadata": {
        "colab": {
          "base_uri": "https://localhost:8080/",
          "height": 265
        },
        "id": "8gsFqB7wgKVq",
        "outputId": "7b7a15f7-a733-4ec1-93fd-3a1d03519cac"
      },
      "source": [
        "# 产生随机点\n",
        "# 拟合直线 y = a*x + b (a = 1, b = 1)\n",
        "a = 1\n",
        "b = 1\n",
        "\n",
        "N = 100 # 采样点数\n",
        "x_sample = np.linspace(-1, 1, N)\n",
        "y_sample = a * x_sample * a + b + np.random.normal(0, 0.1, N)\n",
        "\n",
        "plt.figure()\n",
        "plt.plot([-1, 1], [0, 2], color='r', label='real')\n",
        "plt.scatter(x_sample, y_sample)\n",
        "plt.legend()\n",
        "plt.show()"
      ],
      "execution_count": 5,
      "outputs": [
        {
          "output_type": "display_data",
          "data": {
            "image/png": "[encoded data removed]",
            "text/plain": [
              "<Figure size 432x288 with 1 Axes>"
            ]
          },
          "metadata": {
            "tags": [],
            "needs_background": "light"
          }
        }
      ]
    },
    {
      "cell_type": "markdown",
      "metadata": {
        "id": "7q12DvpZmRVz"
      },
      "source": [
        "采用最小二乘法拟合"
      ]
    },
    {
      "cell_type": "code",
      "metadata": {
        "colab": {
          "base_uri": "https://localhost:8080/"
        },
        "id": "rRpGyLnFmQP1",
        "outputId": "b6b50391-3902-4acd-85f7-d0e8f15476d7"
      },
      "source": [
        "X = np.stack([x_sample, np.ones((N,))], axis=0).T\n",
        "Y = y_sample[:, np.newaxis]\n",
        "\n",
        "param = np.linalg.inv(X.T @ X) @ X.T @ Y\n",
        "print(\"parameter is: \\n\", param)"
      ],
      "execution_count": 13,
      "outputs": [
        {
          "output_type": "stream",
          "text": [
            "(100, 2)\n",
            "parameter is: \n",
            " [[1.02005858]\n",
            " [0.99799636]]\n"
          ],
          "name": "stdout"
        }
      ]
    },
    {
      "cell_type": "markdown",
      "metadata": {
        "id": "a5tYkHcthR0K"
      },
      "source": [
        "采用卡尔曼滤波拟合直线。直线的参数是 $(a, b)$。我们认为初始时，它们都是 0。协方差矩阵为 \n",
        "\n",
        "$$\n",
        "P_0 = \\begin{bmatrix}\n",
        "   1 & 0 \\\\\n",
        "   0 & 1 \n",
        "  \\end{bmatrix}\n",
        "$$\n",
        "\n",
        "每一次的模型为\n",
        "\n",
        "$$\n",
        "\\begin{bmatrix}\n",
        "   y_1 \\\\\n",
        "   y_2 \n",
        "\\end{bmatrix} = \\begin{bmatrix}\n",
        "   x_1 & 1 \\\\\n",
        "   x_2 & 1\n",
        "\\end{bmatrix} * \\begin{bmatrix}\n",
        "  a \\\\\n",
        "  b\n",
        "\\end{bmatrix} + \\begin{bmatrix}\n",
        "  \\epsilon \\\\\n",
        "  \\epsilon\n",
        "\\end{bmatrix}\n",
        "$$。其中 $\\epsilon \\sim N(0, 0.1)$。\n",
        "\n",
        "写代码之前先思考：\n",
        "\n",
        "每一次更新时， H是什么？R是什么？"
      ]
    },
    {
      "cell_type": "code",
      "metadata": {
        "colab": {
          "base_uri": "https://localhost:8080/"
        },
        "id": "xCeXNeKfhQ7I",
        "outputId": "bb8450fa-e319-46f3-f777-e86c5c1cbf1a"
      },
      "source": [
        "param = np.array([[0.], [0.]])\n",
        "var = np.array([[1., 0.], [0., 1.]])\n",
        "R = np.array([[0.1, 0.], [0., 0.1]])\n",
        "\n",
        "for i in range(N//2):\n",
        "  x = np.stack([x_sample[2*i: 2*(i+1)], np.ones((2, ))], axis=0).T\n",
        "  y = y_sample[2*i: 2*(i+1)][:, np.newaxis]\n",
        "  K = var @ x.T @ np.linalg.inv(x @ var @ x.T + R)\n",
        "  z = np.linalg.inv(x) @ y\n",
        "  var = var - K @ var\n",
        "  param += K @ (y - x @ param)\n",
        "\n",
        "print(\"parameter is: \\n\", param)\n",
        "print(\"covariance matrix is: \\n\", var)"
      ],
      "execution_count": 23,
      "outputs": [
        {
          "output_type": "stream",
          "text": [
            "parameter is: \n",
            " [[1.07938624]\n",
            " [0.92053371]]\n",
            "covariance matrix is: \n",
            " [[-0.00989589  0.03518629]\n",
            " [ 0.02167701 -0.02961263]]\n"
          ],
          "name": "stdout"
        }
      ]
    },
    {
      "cell_type": "markdown",
      "metadata": {
        "id": "0IWAmpN8pX6Y"
      },
      "source": [
        "RANSAC"
      ]
    },
    {
      "cell_type": "code",
      "metadata": {
        "colab": {
          "base_uri": "https://localhost:8080/"
        },
        "id": "PyLPEgVjpXOi",
        "outputId": "e2261081-d6bc-462c-86c2-b06c3b807f3c"
      },
      "source": [
        "num_iteration = 1000\n",
        "sample_size = 2\n",
        "eps = 1e-2\n",
        "\n",
        "best_num_inliers = -1\n",
        "best_line = None\n",
        "\n",
        "for _ in range(num_iteration):\n",
        "    permuted_indices = np.random.permutation(np.arange(x_sample.shape[0]))\n",
        "    sample_indices = permuted_indices[:sample_size]\n",
        "    test_indices = permuted_indices[sample_size:]\n",
        "\n",
        "    x = x_sample[sample_indices]\n",
        "    y = y_sample[sample_indices]\n",
        "    x = np.stack([x, np.ones((sample_size, ))], axis=0).T\n",
        "    line = np.linalg.inv(x) @ y\n",
        "\n",
        "    test_x = x_sample[test_indices]\n",
        "    test_x = np.stack([test_x, np.ones((test_x.shape[0]))], axis=0).T\n",
        "    test_y = y_sample[test_indices]\n",
        "    error = np.abs(test_y - test_x @ line)\n",
        "\n",
        "    num_inliers = np.sum(error < eps)\n",
        "    if num_inliers > best_num_inliers:\n",
        "      best_num_inliers = num_inliers\n",
        "      best_line = line\n",
        "    \n",
        "\n",
        "print(\"the line is: \", best_line)"
      ],
      "execution_count": 26,
      "outputs": [
        {
          "output_type": "stream",
          "text": [
            "the line is:  [1.05763042 1.03525236]\n"
          ],
          "name": "stdout"
        }
      ]
    },
    {
      "cell_type": "markdown",
      "metadata": {
        "id": "IttzX_yWrqhO"
      },
      "source": [
        "Hough Line Transform\n",
        "\n",
        "主要应用在图片中识别直线段。具体可以看[此处示例](https://docs.opencv.org/4.5.0/d9/db0/tutorial_hough_lines.html)"
      ]
    }
  ]
}