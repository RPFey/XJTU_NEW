{
  "nbformat": 4,
  "nbformat_minor": 0,
  "metadata": {
    "colab": {
      "name": "python tutorial.ipynb",
      "provenance": [],
      "authorship_tag": "ABX9TyPlUo2pAaD44ICQXSSYXe16",
      "include_colab_link": true
    },
    "kernelspec": {
      "name": "python3",
      "display_name": "Python 3"
    },
    "language_info": {
      "name": "python"
    }
  },
  "cells": [
    {
      "cell_type": "markdown",
      "metadata": {
        "id": "view-in-github",
        "colab_type": "text"
      },
      "source": [
        "<a href=\"https://colab.research.google.com/github/RPFey/XJTU_NEW/blob/main/python_tutorial.ipynb\" target=\"_parent\"><img src=\"https://colab.research.google.com/assets/colab-badge.svg\" alt=\"Open In Colab\"/></a>"
      ]
    },
    {
      "cell_type": "markdown",
      "metadata": {
        "id": "AmAiEWmA6CSo"
      },
      "source": [
        "# 数据结构\n",
        "\n",
        "## List\n",
        "\n",
        "参考 Python 官方 [API](https://docs.python.org/3/tutorial/datastructures.html)"
      ]
    },
    {
      "cell_type": "code",
      "metadata": {
        "colab": {
          "base_uri": "https://localhost:8080/"
        },
        "id": "JhNLXsqI56_N",
        "outputId": "4de3b9c0-efe5-4324-9b3f-2617f890d3fe"
      },
      "source": [
        "fruits = ['orange', 'apple', 'pear', 'banana', 'kiwi', 'apple', 'banana']\n",
        "print(f\"number of apples: {fruits.count('apple')}\")\n",
        "print(f\"banana is at pos: {fruits.index('banana')}\")\n",
        "\n",
        "fruits.reverse()\n",
        "print(\"fruits in : \", fruits)\n",
        "\n",
        "fruits.sort()\n",
        "print(\"Sort fruits : \", fruits)"
      ],
      "execution_count": null,
      "outputs": [
        {
          "output_type": "stream",
          "text": [
            "number of apples: 2\n",
            "banana is at pos: 3\n",
            "fruits in :  ['banana', 'apple', 'kiwi', 'banana', 'pear', 'apple', 'orange']\n",
            "Sort fruits :  ['apple', 'apple', 'banana', 'banana', 'kiwi', 'orange', 'pear']\n"
          ],
          "name": "stdout"
        }
      ]
    },
    {
      "cell_type": "markdown",
      "metadata": {
        "id": "kzp6p3_w6_vj"
      },
      "source": [
        "### List as Stack"
      ]
    },
    {
      "cell_type": "code",
      "metadata": {
        "colab": {
          "base_uri": "https://localhost:8080/"
        },
        "id": "Mz9ljWKQ7Dzb",
        "outputId": "43495ee6-a76c-49f8-b21b-27504d246784"
      },
      "source": [
        "stack = [3, 4, 5]\n",
        "stack.append(6)\n",
        "stack.append(7)\n",
        "print(\"stack is: \", stack)\n",
        "\n",
        "stack.pop()\n",
        "print(\"stack is: \", stack)"
      ],
      "execution_count": null,
      "outputs": [
        {
          "output_type": "stream",
          "text": [
            "stack is:  [3, 4, 5, 6, 7]\n"
          ],
          "name": "stdout"
        }
      ]
    },
    {
      "cell_type": "markdown",
      "metadata": {
        "id": "QESskj9S7V5B"
      },
      "source": [
        "## List as Queue"
      ]
    },
    {
      "cell_type": "code",
      "metadata": {
        "colab": {
          "base_uri": "https://localhost:8080/"
        },
        "id": "YOKUG_WO7XlC",
        "outputId": "78b9c673-7983-4b44-88ae-6441339b47a2"
      },
      "source": [
        "from collections import deque\n",
        "queue = deque([\"Eric\", \"John\", \"Michael\"])\n",
        "queue.append(\"Terry\")           # Terry arrives\n",
        "queue.append(\"Graham\")          # Graham arrives\n",
        "queue.popleft()\n",
        "\n",
        "print(\"Queue is \", queue)"
      ],
      "execution_count": null,
      "outputs": [
        {
          "output_type": "stream",
          "text": [
            "Queue is  deque(['John', 'Michael', 'Terry', 'Graham'])\n"
          ],
          "name": "stdout"
        }
      ]
    },
    {
      "cell_type": "markdown",
      "metadata": {
        "id": "eujym43v7giE"
      },
      "source": [
        "### Easier ways to create Lists"
      ]
    },
    {
      "cell_type": "code",
      "metadata": {
        "colab": {
          "base_uri": "https://localhost:8080/"
        },
        "id": "7dLCXvwE7krL",
        "outputId": "78c33420-6924-44b4-c43b-498892d6b651"
      },
      "source": [
        "squares1 = [x**2 for x in range(10)]\n",
        "squares2 = list(map(lambda x: x**2, range(10)))\n",
        "\n",
        "print(\"square1 is \", squares1)\n",
        "print(\"square2 is \", squares2)\n",
        "\n",
        "pairs = [(x, y) for x in [1,2,3] for y in [3,1,4] if x != y]\n",
        "print(\"pairs is \", pairs)"
      ],
      "execution_count": null,
      "outputs": [
        {
          "output_type": "stream",
          "text": [
            "square1 is  [0, 1, 4, 9, 16, 25, 36, 49, 64, 81]\n",
            "square2 is  [0, 1, 4, 9, 16, 25, 36, 49, 64, 81]\n",
            "pairs is  [(1, 3), (1, 4), (2, 3), (2, 1), (2, 4), (3, 1), (3, 4)]\n"
          ],
          "name": "stdout"
        }
      ]
    },
    {
      "cell_type": "markdown",
      "metadata": {
        "id": "hYbVKn3p87Xd"
      },
      "source": [
        "### Delete Elements"
      ]
    },
    {
      "cell_type": "code",
      "metadata": {
        "colab": {
          "base_uri": "https://localhost:8080/"
        },
        "id": "OmeOdbx989Eh",
        "outputId": "207a4477-9f0d-4462-aeef-da23536f11d5"
      },
      "source": [
        "a = [-1, 1, 66.25, 333, 333, 1234.5]\n",
        "del a[0]\n",
        "print('a is: ', a)\n",
        "\n",
        "del a[2:4]\n",
        "print(\"a is: \", a)"
      ],
      "execution_count": null,
      "outputs": [
        {
          "output_type": "stream",
          "text": [
            "a is:  [1, 66.25, 333, 333, 1234.5]\n",
            "a is:  [1, 66.25, 1234.5]\n"
          ],
          "name": "stdout"
        }
      ]
    },
    {
      "cell_type": "markdown",
      "metadata": {
        "id": "R-5Rdcne9dJt"
      },
      "source": [
        "## Sets"
      ]
    },
    {
      "cell_type": "code",
      "metadata": {
        "colab": {
          "base_uri": "https://localhost:8080/"
        },
        "id": "syJ29uFN9eFI",
        "outputId": "77fb774c-f5bc-4c41-c6f5-ae4a6b038026"
      },
      "source": [
        "basket = {'apple', 'orange', 'apple', 'pear', 'orange', 'banana'}\n",
        "print(\"set is \", basket)                      \n",
        "print('orange in basket? :', 'orange' in basket)                 # fast membership testing\n",
        "print('crabgrass in basket? :', 'crabgrass' in basket)\n",
        "\n",
        "a = set('abracadabra')\n",
        "b = set('alacazam')\n",
        "print(\"set a is: \", a)\n",
        "print(\"set a - b is:\", a - b)                              # letters in a but not in b\n",
        "print(\"set a | b is : \", a | b)   \n",
        "print(\"set a & b is : \", a & b)   \n",
        "print(\"set a ^ b is : \", a ^ b)      "
      ],
      "execution_count": null,
      "outputs": [
        {
          "output_type": "stream",
          "text": [
            "set is  {'orange', 'apple', 'pear', 'banana'}\n",
            "orange in basket? : True\n",
            "crabgrass in basket? : False\n",
            "set a is:  {'c', 'r', 'b', 'a', 'd'}\n",
            "set a - b is: {'b', 'd', 'r'}\n",
            "set a | b is :  {'l', 'c', 'r', 'm', 'b', 'a', 'z', 'd'}\n",
            "set a & b is :  {'a', 'c'}\n",
            "set a ^ b is :  {'l', 'r', 'z', 'm', 'b', 'd'}\n"
          ],
          "name": "stdout"
        }
      ]
    },
    {
      "cell_type": "markdown",
      "metadata": {
        "id": "qCCNic7l-I47"
      },
      "source": [
        "## Dictionary"
      ]
    },
    {
      "cell_type": "code",
      "metadata": {
        "colab": {
          "base_uri": "https://localhost:8080/"
        },
        "id": "-v7vlSkq-KjO",
        "outputId": "e79206c5-e967-42d3-8265-c91928613fa7"
      },
      "source": [
        "tel = {'jack': 4098, 'sape': 4139}\n",
        "tel['guido'] = 4127\n",
        "print(tel)\n",
        "print(\"id of jack is \", tel['jack'])\n",
        "del tel['sape']\n",
        "tel['irv'] = 4127\n",
        "print(tel)\n",
        "print(\"all the keys: \", list(tel))\n",
        "print(\"guido is tel? \", 'guido' in tel)\n",
        "print(\"sape is tel? \", 'sape' in tel)"
      ],
      "execution_count": null,
      "outputs": [
        {
          "output_type": "stream",
          "text": [
            "{'jack': 4098, 'sape': 4139, 'guido': 4127}\n",
            "id of jack is  4098\n",
            "{'jack': 4098, 'guido': 4127, 'irv': 4127}\n",
            "all the keys:  ['jack', 'guido', 'irv']\n",
            "guido is tel?  True\n",
            "sape is tel?  False\n"
          ],
          "name": "stdout"
        }
      ]
    },
    {
      "cell_type": "markdown",
      "metadata": {
        "id": "g83Fb2yL-w3e"
      },
      "source": [
        "Other ways to create dictionary"
      ]
    },
    {
      "cell_type": "code",
      "metadata": {
        "colab": {
          "base_uri": "https://localhost:8080/"
        },
        "id": "0-SKjz4P-zbH",
        "outputId": "69ea7ba9-e6ee-4c9c-a5ad-7e7c6d9ab0f0"
      },
      "source": [
        "print(dict([('sape', 4139), ('guido', 4127), ('jack', 4098)]))\n",
        "print({x: x**2 for x in (2, 4, 6)})"
      ],
      "execution_count": null,
      "outputs": [
        {
          "output_type": "stream",
          "text": [
            "{'sape': 4139, 'guido': 4127, 'jack': 4098}\n",
            "{2: 4, 4: 16, 6: 36}\n"
          ],
          "name": "stdout"
        }
      ]
    },
    {
      "cell_type": "markdown",
      "metadata": {
        "id": "rhGbdbBd-73s"
      },
      "source": [
        "## Enumeration"
      ]
    },
    {
      "cell_type": "code",
      "metadata": {
        "colab": {
          "base_uri": "https://localhost:8080/"
        },
        "id": "Z-0DwTxu-9EW",
        "outputId": "928dd2b5-2293-4136-e4cf-678969e7a9db"
      },
      "source": [
        "knights = {'gallahad': 'the pure', 'robin': 'the brave'}\n",
        "for k, v in knights.items():\n",
        "    print(k, v)\n",
        "\n",
        "for i, v in enumerate(['tic', 'tac', 'toe']):\n",
        "    print(i, v)\n",
        "\n",
        "questions = ['name', 'quest', 'favorite color']\n",
        "answers = ['lancelot', 'the holy grail', 'blue']\n",
        "for q, a in zip(questions, answers):\n",
        "    print('What is your {0}?  It is {1}.'.format(q, a))\n",
        "\n",
        "basket = ['apple', 'orange', 'apple', 'pear', 'orange', 'banana']\n",
        "for i in sorted(basket):\n",
        "    print(i)\n",
        "\n",
        "for i in reversed(range(1, 10, 2)):\n",
        "    print(i)"
      ],
      "execution_count": null,
      "outputs": [
        {
          "output_type": "stream",
          "text": [
            "gallahad the pure\n",
            "robin the brave\n",
            "0 tic\n",
            "1 tac\n",
            "2 toe\n",
            "What is your name?  It is lancelot.\n",
            "What is your quest?  It is the holy grail.\n",
            "What is your favorite color?  It is blue.\n"
          ],
          "name": "stdout"
        }
      ]
    },
    {
      "cell_type": "markdown",
      "metadata": {
        "id": "V0a4P4OfBmIz"
      },
      "source": [
        "## Python Class\n",
        "\n",
        "面向对象编程简介\n",
        "\n",
        "* 类： 用来描述具有相同的属性和方法的对象的集合。它定义了该集合中每个对象所共有的属性和方法。对象是类的实例。\n",
        "\n",
        "* 类变量：类变量在整个实例化的对象中是公用的。类变量定义在类中且在函数体之外。类变量通常不作为实例变量使用。\n",
        "\n",
        "* 数据成员：类变量或者实例变量, 用于处理类及其实例对象的相关的数据。\n",
        "\n",
        "* 方法重写：如果从父类继承的方法不能满足子类的需求，可以对其进行改写，这个过程叫方法的覆盖（override），也称为方法的重写。\n",
        "\n",
        "* 局部变量：定义在方法中的变量，只作用于当前实例的类。\n",
        "\n",
        "* 继承：即一个派生类（derived class）继承基类（base class）的字段和方法。\n",
        "\n",
        "* 实例化：创建一个类的实例。\n",
        "\n",
        "* 方法：类中定义的函数。\n",
        "\n",
        "* 对象：通过类定义的数据结构实例。\n",
        "\n"
      ]
    },
    {
      "cell_type": "code",
      "metadata": {
        "colab": {
          "base_uri": "https://localhost:8080/"
        },
        "id": "0nkzC99QBkPq",
        "outputId": "59cac6cd-5cf2-47b4-ea39-99e1658beb38"
      },
      "source": [
        "class Employee:\n",
        "   '所有员工的基类'\n",
        "   # 在所有类的实例中共享。类似于 C++ 中类的静态成员变量\n",
        "   empCount = 0\n",
        " \n",
        "   def __init__(self, name, salary):\n",
        "      # self 代表类本身\n",
        "      self.name = name # 属性\n",
        "      self.salary = salary\n",
        "      Employee.empCount += 1\n",
        "   \n",
        "   def displayCount(self): # 方法\n",
        "     print(\"Total Employee %d\" % Employee.empCount)\n",
        " \n",
        "   def displayEmployee(self):\n",
        "      print(\"Name : \", self.name,  \", Salary: \", self.salary)\n",
        "\n",
        "employ1 = Employee(\"A\", 100)\n",
        "employ1.displayCount()\n",
        "\n",
        "# 调用方法\n",
        "employ2 = Employee(\"B\", 200)\n",
        "employ2.displayCount()\n",
        "employ2.displayEmployee()\n",
        "\n",
        "# 访问属性\n",
        "print(\"Total Employee %d\" % Employee.empCount)"
      ],
      "execution_count": null,
      "outputs": [
        {
          "output_type": "stream",
          "text": [
            "Total Employee 1\n",
            "Total Employee 2\n",
            "Name :  B , Salary:  200\n",
            "Total Employee 2\n"
          ],
          "name": "stdout"
        }
      ]
    },
    {
      "cell_type": "markdown",
      "metadata": {
        "id": "WiApZC6BMI4k"
      },
      "source": [
        "`self` 说明 "
      ]
    },
    {
      "cell_type": "code",
      "metadata": {
        "colab": {
          "base_uri": "https://localhost:8080/"
        },
        "id": "zh0aZJF_MLVY",
        "outputId": "256d20c1-4901-46a1-cfc6-077679c00bd1"
      },
      "source": [
        "class Test:\n",
        "    def prt(self):\n",
        "        print(self)\n",
        "        print(self.__class__)\n",
        "        print(self.__class__.__name__)\n",
        " \n",
        "t = Test()\n",
        "t.prt()\n",
        "\n",
        "print(isinstance(t, Test))"
      ],
      "execution_count": null,
      "outputs": [
        {
          "output_type": "stream",
          "text": [
            "<__main__.Test object at 0x7f649a3dfd10>\n",
            "<class '__main__.Test'>\n",
            "Test\n",
            "True\n"
          ],
          "name": "stdout"
        }
      ]
    },
    {
      "cell_type": "markdown",
      "metadata": {
        "id": "QDp1xOaAzQk2"
      },
      "source": [
        "在类外修改属性"
      ]
    },
    {
      "cell_type": "code",
      "metadata": {
        "id": "JlQINo8QMS7A"
      },
      "source": [
        "hasattr(employ1, 'age')    # 如果存在 'age' 属性返回 True。\n",
        "setattr(employ1, 'age', 8) # 添加属性 'age' 值为 8\n",
        "getattr(employ1, 'age')    # 返回 'age' 属性的值\n",
        "delattr(employ1, 'age')    # 删除属性 'age'"
      ],
      "execution_count": null,
      "outputs": []
    },
    {
      "cell_type": "markdown",
      "metadata": {
        "id": "u3plz5-3zcpT"
      },
      "source": [
        "内置类的属性，定义的类都有以下这些奇奇怪怪的属性"
      ]
    },
    {
      "cell_type": "code",
      "metadata": {
        "colab": {
          "base_uri": "https://localhost:8080/"
        },
        "id": "PNVspmtczko7",
        "outputId": "6084bb6e-7b88-4584-bf8f-9dd434d4bae2"
      },
      "source": [
        "print(dir(employ1))"
      ],
      "execution_count": null,
      "outputs": [
        {
          "output_type": "stream",
          "text": [
            "['__class__', '__delattr__', '__dict__', '__dir__', '__doc__', '__eq__', '__format__', '__ge__', '__getattribute__', '__gt__', '__hash__', '__init__', '__init_subclass__', '__le__', '__lt__', '__module__', '__ne__', '__new__', '__reduce__', '__reduce_ex__', '__repr__', '__setattr__', '__sizeof__', '__str__', '__subclasshook__', '__weakref__', 'displayCount', 'displayEmployee', 'empCount', 'name', 'salary']\n"
          ],
          "name": "stdout"
        }
      ]
    },
    {
      "cell_type": "markdown",
      "metadata": {
        "id": "aULoyO2nzwXd"
      },
      "source": [
        "`__dict__` : 类的属性（包含一个字典，由类的数据属性组成）\n",
        "\n",
        "`__doc__` :类的文档字符串\n",
        "\n",
        "`__name__`: 类名\n",
        "\n",
        "`__module__`: 类定义所在的模块（类的全名是'`__main__`.className'，如果类位于一个导入模块mymod中，那么className.`__module__` 等于 mymod）\n",
        "\n",
        "`__bases__` : 类的所有父类构成元素（包含了一个由所有父类组成的元组）"
      ]
    },
    {
      "cell_type": "code",
      "metadata": {
        "colab": {
          "base_uri": "https://localhost:8080/"
        },
        "id": "_9O_1XSFz_Nb",
        "outputId": "436dbcd4-9d00-404c-da52-6531678a6305"
      },
      "source": [
        "print(\"Employee.__doc__:\", Employee.__doc__)\n",
        "print(\"Employee.__name__:\", Employee.__name__)\n",
        "print(\"Employee.__module__:\", Employee.__module__)\n",
        "print(\"Employee.__bases__:\", Employee.__bases__)\n",
        "print(\"Employee.__dict__:\", Employee.__dict__)"
      ],
      "execution_count": null,
      "outputs": [
        {
          "output_type": "stream",
          "text": [
            "Employee.__doc__: 所有员工的基类\n",
            "Employee.__name__: Employee\n",
            "Employee.__module__: __main__\n",
            "Employee.__bases__: (<class 'object'>,)\n",
            "Employee.__dict__: {'__module__': '__main__', '__doc__': '所有员工的基类', 'empCount': 2, '__init__': <function Employee.__init__ at 0x7f649a39b440>, 'displayCount': <function Employee.displayCount at 0x7f649a39bef0>, 'displayEmployee': <function Employee.displayEmployee at 0x7f649a39bc20>, '__dict__': <attribute '__dict__' of 'Employee' objects>, '__weakref__': <attribute '__weakref__' of 'Employee' objects>}\n"
          ],
          "name": "stdout"
        }
      ]
    },
    {
      "cell_type": "markdown",
      "metadata": {
        "id": "C6zDTUom0wks"
      },
      "source": [
        "### Exercise\n",
        "\n",
        "完成 Leetcode Problem1 "
      ]
    }
  ]
}